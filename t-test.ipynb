{
 "cells": [
  {
   "cell_type": "code",
   "execution_count": 1,
   "metadata": {},
   "outputs": [],
   "source": [
    "import numpy as np\n",
    "from scipy.stats import ttest_ind\n",
    "from scipy.stats import ttest_rel\n",
    "import matplotlib.pyplot as plt\n"
   ]
  },
  {
   "cell_type": "code",
   "execution_count": 2,
   "metadata": {},
   "outputs": [],
   "source": [
    "# 独立样本 t 检验\n",
    "# 情境： 某教师想比较两组学生使用不同教学方法后的考试成绩是否有显著差异。\n",
    "group1 = [70, 75, 80, 85, 90]\n",
    "group2 = [78, 83, 88, 92, 95]"
   ]
  },
  {
   "cell_type": "code",
   "execution_count": 3,
   "metadata": {},
   "outputs": [
    {
     "name": "stdout",
     "output_type": "stream",
     "text": [
      "80.0\n",
      "62.5\n",
      "7.905694150420948\n"
     ]
    }
   ],
   "source": [
    "# 平均数\n",
    "group1_average = (70 + 75 + 80 + 85 + 90) / 5\n",
    "\n",
    "# 方差\n",
    "squared_sum = ((70 - group1_average) ** 2 +\n",
    "               (75 - group1_average) ** 2 +\n",
    "               (80 - group1_average) ** 2 +\n",
    "               (85 - group1_average) ** 2 +\n",
    "               (90 - group1_average) ** 2)\n",
    "group1_variance = squared_sum / (len(group1) - 1)\n",
    "\n",
    "# 标准差\n",
    "group1_std_deviation = group1_variance ** 0.5\n",
    "\n",
    "print(group1_average)\n",
    "print(group1_variance)\n",
    "print(group1_std_deviation)"
   ]
  },
  {
   "cell_type": "code",
   "execution_count": 4,
   "metadata": {},
   "outputs": [
    {
     "name": "stdout",
     "output_type": "stream",
     "text": [
      "7.905694150420948\n"
     ]
    }
   ],
   "source": [
    "std_group1 = np.std(group1, ddof=1)\n",
    "print(std_group1)"
   ]
  },
  {
   "cell_type": "code",
   "execution_count": 5,
   "metadata": {},
   "outputs": [
    {
     "name": "stdout",
     "output_type": "stream",
     "text": [
      "平均数 (Group 1): 80.0\n",
      "平均数 (Group 2): 87.2\n",
      "标准差 (Group 1): 7.905694150420948\n",
      "标准差 (Group 2): 6.833739825307955\n",
      "t统计量: -1.540657773039287\n",
      "p值: 0.16196729498279083\n",
      "效果量 (Cohen's d): 0.9743975315293807\n"
     ]
    }
   ],
   "source": [
    "# 数据\n",
    "group1 = [70, 75, 80, 85, 90]\n",
    "group2 = [78, 83, 88, 92, 95]\n",
    "\n",
    "# 计算平均数\n",
    "mean_group1 = np.mean(group1)\n",
    "mean_group2 = np.mean(group2)\n",
    "\n",
    "# 计算标准差\n",
    "std_group1 = np.std(group1, ddof=1)  # ddof=1 是样本标准差\n",
    "std_group2 = np.std(group2, ddof=1)\n",
    "\n",
    "# 计算 t 检验和 p 值\n",
    "t_stat, p_value = ttest_ind(group1, group2)\n",
    "\n",
    "# 计算 合并方差\n",
    "pooled_std = np.sqrt(((len(group1) - 1) * std_group1**2 + (len(group2) - 1) * std_group2**2) /\n",
    "                     (len(group1) + len(group2) - 2))\n",
    "\n",
    "# 计算 ES\n",
    "cohen_d = (mean_group2 - mean_group1) / pooled_std\n",
    "\n",
    "# 打印结果\n",
    "print(\"平均数 (Group 1):\", mean_group1)\n",
    "print(\"平均数 (Group 2):\", mean_group2)\n",
    "print(\"标准差 (Group 1):\", std_group1)\n",
    "print(\"标准差 (Group 2):\", std_group2)\n",
    "print(\"t统计量:\", t_stat)\n",
    "print(\"p值:\", p_value)\n",
    "print(\"效果量 (Cohen's d):\", cohen_d)"
   ]
  },
  {
   "cell_type": "code",
   "execution_count": 6,
   "metadata": {},
   "outputs": [
    {
     "name": "stdout",
     "output_type": "stream",
     "text": [
      "差值均值: 3.4\n",
      "差值标准差: 1.51657508881031\n",
      "t统计量: -5.013026509266503\n",
      "p值: 0.007421788771994215\n",
      "效果量 (Cohen's d): 2.241893609545676\n"
     ]
    }
   ],
   "source": [
    "# 数据\n",
    "pre_training = [68, 72, 75, 80, 85]\n",
    "post_training = [70, 74, 78, 85, 90]\n",
    "\n",
    "# 计算差值\n",
    "differences = np.array(post_training) - np.array(pre_training)\n",
    "\n",
    "# 计算差值均值和标准差\n",
    "mean_diff = np.mean(differences)\n",
    "std_diff = np.std(differences, ddof=1)\n",
    "\n",
    "# 计算 t 检验和 p 值\n",
    "t_stat, p_value = ttest_rel(pre_training, post_training)\n",
    "\n",
    "# 计算效应量 (Cohen's d)\n",
    "cohen_d = mean_diff / std_diff\n",
    "\n",
    "# 输出结果\n",
    "print(\"差值均值:\", mean_diff)\n",
    "print(\"差值标准差:\", std_diff)\n",
    "print(\"t统计量:\", t_stat)\n",
    "print(\"p值:\", p_value)\n",
    "print(\"效果量 (Cohen's d):\", cohen_d)"
   ]
  },
  {
   "cell_type": "code",
   "execution_count": 2,
   "metadata": {},
   "outputs": [],
   "source": [
    "\n",
    "\n",
    "def calculate_statistics(group1, group2):\n",
    "    # 计算平均数\n",
    "    mean_group1 = np.mean(group1)\n",
    "    mean_group2 = np.mean(group2)\n",
    "\n",
    "    # 计算标准差\n",
    "    std_group1 = np.std(group1, ddof=1)  # ddof=1 是样本标准差\n",
    "    std_group2 = np.std(group2, ddof=1)\n",
    "\n",
    "    # 计算 t 检验和 p 值\n",
    "    t_stat, p_value = ttest_ind(group1, group2)\n",
    "\n",
    "    # 计算合并方差\n",
    "    pooled_std = np.sqrt(((len(group1) - 1) * std_group1**2 + (len(group2) - 1) * std_group2**2) /\n",
    "                         (len(group1) + len(group2) - 2))\n",
    "\n",
    "    # 计算效果量 (Cohen's d)\n",
    "    cohen_d = (mean_group2 - mean_group1) / pooled_std\n",
    "\n",
    "    return {\n",
    "        \"mean_group1\": mean_group1,\n",
    "        \"mean_group2\": mean_group2,\n",
    "        \"std_group1\": std_group1,\n",
    "        \"std_group2\": std_group2,\n",
    "        \"t_stat\": t_stat,\n",
    "        \"p_value\": p_value,\n",
    "        \"cohen_d\": cohen_d\n",
    "    }"
   ]
  },
  {
   "cell_type": "code",
   "execution_count": 3,
   "metadata": {},
   "outputs": [
    {
     "name": "stdout",
     "output_type": "stream",
     "text": [
      "平均数 (Group 1): 0.2743055555555555\n",
      "平均数 (Group 2): 0.7256944444444443\n",
      "标准差 (Group 1): 0.06720420367766045\n",
      "标准差 (Group 2): 0.08680857482671892\n",
      "t统计量: -20.143016838315027\n",
      "p值: 1.8684000681911075e-24\n",
      "效果量 (Cohen's d): 5.814788096946173\n"
     ]
    }
   ],
   "source": [
    "group1 = [\n",
    "1 / 3, 1 / 3, 1 / 4, 1 / 3, 1 / 4, 5 / 12,\n",
    "    1 / 4, 1 / 4, 1 / 3, 1 / 4, 1 / 4, 1 / 4,\n",
    "    1 / 4, 5 / 12, 1 / 4, 1 / 3, 1 / 6, 1 / 4,\n",
    "    1 / 3, 1 / 4, 1 / 6, 1 / 6, 1 / 4, 1 / 4]\n",
    "\n",
    "group2 = [\n",
    "3 / 4, 3 / 4, 2 / 3, 1 / 2, 3 / 4, 3 / 4,\n",
    "    5 / 6, 3 / 4, 3 / 4, 2 / 3, 3 / 4, 2 / 3,\n",
    "    5 / 6, 7 / 12, 5 / 6, 7 / 12, 3 / 4, 5 / 6,\n",
    "    5 / 6, 2 / 3, 3 / 4, 2 / 3, 3 / 4, 3 / 4]\n",
    "\n",
    "\n",
    "# 调用方法\n",
    "results = calculate_statistics(group1, group2)\n",
    "\n",
    "# 打印结果\n",
    "print(\"平均数 (Group 1):\", results[\"mean_group1\"])\n",
    "print(\"平均数 (Group 2):\", results[\"mean_group2\"])\n",
    "print(\"标准差 (Group 1):\", results[\"std_group1\"])\n",
    "print(\"标准差 (Group 2):\", results[\"std_group2\"])\n",
    "print(\"t统计量:\", results[\"t_stat\"])\n",
    "print(\"p值:\", results[\"p_value\"])\n",
    "print(\"效果量 (Cohen's d):\", results[\"cohen_d\"])\n"
   ]
  },
  {
   "cell_type": "code",
   "execution_count": 7,
   "metadata": {},
   "outputs": [
    {
     "name": "stdout",
     "output_type": "stream",
     "text": [
      "平均数 (Group 1): 0.2881944444444444\n",
      "平均数 (Group 2): 0.7256944444444443\n",
      "标准差 (Group 1): 0.07762774521842859\n",
      "标准差 (Group 2): 0.08680857482671892\n",
      "t统计量: -18.40454489323962\n",
      "p值: 7.577808487179242e-23\n",
      "效果量 (Cohen's d): 5.312934474212222\n"
     ]
    }
   ],
   "source": [
    "group1 = [\n",
    "1 / 3, 1 / 3, 1 / 4, 1 / 3, 1 / 4, 5 / 12,\n",
    "    1 / 4, 1 / 4, 1 / 3, 1 / 4, 1 / 4, 1 / 4,\n",
    "    1 / 4, 5 / 12, 1 / 4, 1 / 3, 1 / 6, 1 / 4,\n",
    "    1 / 3, 1 / 4, 1 / 4, 1 / 6, 1/2, 1 / 4]\n",
    "\n",
    "group2 = [\n",
    "3 / 4, 3 / 4, 2 / 3, 1 / 2, 3 / 4, 3 / 4,\n",
    "    5 / 6, 3 / 4, 3 / 4, 2 / 3, 3 / 4, 2 / 3,\n",
    "    5 / 6, 7 / 12, 5 / 6, 7 / 12, 3 / 4, 5 / 6,\n",
    "    5 / 6, 2 / 3, 3 / 4, 2 / 3, 3 / 4, 3 / 4]\n",
    "\n",
    "\n",
    "# 调用方法\n",
    "results = calculate_statistics(group1, group2)\n",
    "\n",
    "# 打印结果\n",
    "print(\"平均数 (Group 1):\", results[\"mean_group1\"])\n",
    "print(\"平均数 (Group 2):\", results[\"mean_group2\"])\n",
    "print(\"标准差 (Group 1):\", results[\"std_group1\"])\n",
    "print(\"标准差 (Group 2):\", results[\"std_group2\"])\n",
    "print(\"t统计量:\", results[\"t_stat\"])\n",
    "print(\"p值:\", results[\"p_value\"])\n",
    "print(\"效果量 (Cohen's d):\", results[\"cohen_d\"])"
   ]
  },
  {
   "cell_type": "code",
   "execution_count": null,
   "metadata": {},
   "outputs": [],
   "source": []
  },
  {
   "cell_type": "code",
   "execution_count": 15,
   "metadata": {},
   "outputs": [
    {
     "name": "stdout",
     "output_type": "stream",
     "text": [
      "平均数 (Group 1): 0.27777777777777773\n",
      "平均数 (Group 2): 0.7638888888888888\n",
      "标准差 (Group 1): 0.10617034287843435\n",
      "标准差 (Group 2): 0.1800205749557739\n",
      "t统计量: -11.394679007212943\n",
      "p值: 5.453836242678704e-15\n",
      "效果量 (Cohen's d): 3.2893604960718847\n"
     ]
    }
   ],
   "source": [
    "# 示例数据\n",
    "group1 = [\n",
    "1/4, 1/3, 1/3, 1/3, 1/6, 7/12,\n",
    " 1/12, 1/3, 1/3, 1/6, 1/4, 1/4,\n",
    " 1/4, 5/12, 1/4, 1/3, 1/6, 1/4,\n",
    " 1/3, 1/4, 1/6, 1/6, 1/4, 5/12]\n",
    "\n",
    "\n",
    "# [0.25, 0.3333, 0.3333, 0.3333, 0.1667, 0.5833,\n",
    "#  0.0833, 0.3333, 0.3333, 0.1667, 0.25, 0.25,\n",
    "#  0.25, 0.4167, 0.25, 0.3333, 0.1667, 0.25,\n",
    "#  0.3333, 0.25, 0.1667, 0.1667, 0.25, 0.4167]\n",
    "\n",
    "\n",
    "group2 = [\n",
    "1, 5/6, 2/3, 1/2, 3/4, 5/6,\n",
    " 1, 3/4, 1, 1/2, 7/12, 2/3,\n",
    " 11/12, 7/12, 11/12, 1/2, 5/6, 5/6,\n",
    " 1, 5/12, 11/12, 2/3, 5/6, 5/6]\n",
    "\n",
    "# [1.0, 0.8333, 0.6667, 0.5, 0.75, 0.8333,\n",
    "#  1.0, 0.75, 1.0, 0.5, 0.5833, 0.6667,\n",
    "#  0.9167, 0.5833, 0.9167, 0.5, 0.8333, 0.8333,\n",
    "#  1.0, 0.4167, 0.9167, 0.6667, 0.8333, 0.8333]\n",
    "\n",
    "# 调用方法\n",
    "results = calculate_statistics(group1, group2)\n",
    "\n",
    "# 打印结果\n",
    "print(\"平均数 (Group 1):\", results[\"mean_group1\"])\n",
    "print(\"平均数 (Group 2):\", results[\"mean_group2\"])\n",
    "print(\"标准差 (Group 1):\", results[\"std_group1\"])\n",
    "print(\"标准差 (Group 2):\", results[\"std_group2\"])\n",
    "print(\"t统计量:\", results[\"t_stat\"])\n",
    "print(\"p值:\", results[\"p_value\"])\n",
    "print(\"效果量 (Cohen's d):\", results[\"cohen_d\"])\n",
    "\n"
   ]
  },
  {
   "cell_type": "code",
   "execution_count": 16,
   "metadata": {},
   "outputs": [
    {
     "name": "stdout",
     "output_type": "stream",
     "text": [
      "平均数 (Group 1): 0.2638888888888889\n",
      "平均数 (Group 2): 0.7466666666666666\n",
      "标准差 (Group 1): 0.21933511004669282\n",
      "标准差 (Group 2): 0.293131243517176\n",
      "t统计量: -6.506283301792213\n",
      "p值: 4.5926092267417036e-08\n",
      "效果量 (Cohen's d): 1.8593253246611743\n"
     ]
    }
   ],
   "source": [
    "# 示例数据\n",
    "group1 = [\n",
    "0, 1/3, 1/3, 2/3, 1/3, 1/3,\n",
    " 0, 2/3, 1/3, 1/3, 1/3, 0,\n",
    " 0, 2/3, 1/3, 1/3, 0, 0,\n",
    " 0, 1/3, 1/3, 0, 1/3, 1/3]\n",
    "\n",
    "\n",
    "# [0.0, 0.3333, 0.3333, 0.6667, 0.3333, 0.3333,\n",
    "#  0.0, 0.6667, 0.3333, 0.3333, 0.3333, 0.0,\n",
    "#  0.0, 0.6667, 0.3333, 0.3333, 0.0, 0.0,\n",
    "#  0.0, 0.3333, 0.3333, 0.0, 0.3333, 0.3333]\n",
    "\n",
    "\n",
    "group2 = [\n",
    "1, 2/3, 2/3, 2/3, 1/3, 2/3, 0,\n",
    " 1, 1, 1, 1, 2/3, 1/3,\n",
    " 1, 1, 2/3, 1, 1, 2/3,\n",
    " 1, 1/3, 2/3, 1, 1, 1/3]\n",
    "\n",
    "# [1.0, 0.6667, 0.6667, 0.6667, 0.3333, 0.6667, 0.0,\n",
    "#  1.0, 1.0, 1.0, 1.0, 0.6667, 0.3333,\n",
    "#  1.0, 1.0, 0.6667, 1.0, 1.0, 0.6667,\n",
    "#  1.0, 0.3333, 0.6667, 1.0, 1.0, 0.3333]\n",
    "\n",
    "# 调用方法\n",
    "results = calculate_statistics(group1, group2)\n",
    "\n",
    "# 打印结果\n",
    "print(\"平均数 (Group 1):\", results[\"mean_group1\"])\n",
    "print(\"平均数 (Group 2):\", results[\"mean_group2\"])\n",
    "print(\"标准差 (Group 1):\", results[\"std_group1\"])\n",
    "print(\"标准差 (Group 2):\", results[\"std_group2\"])\n",
    "print(\"t统计量:\", results[\"t_stat\"])\n",
    "print(\"p值:\", results[\"p_value\"])\n",
    "print(\"效果量 (Cohen's d):\", results[\"cohen_d\"])\n",
    "\n"
   ]
  },
  {
   "cell_type": "code",
   "execution_count": 8,
   "metadata": {},
   "outputs": [
    {
     "data": {
      "image/png": "[encoded data removed]",
      "text/plain": [
       "<Figure size 600x400 with 1 Axes>"
      ]
     },
     "metadata": {},
     "output_type": "display_data"
    }
   ],
   "source": [
    "import numpy as np\n",
    "from scipy.stats import t\n",
    "import matplotlib.pyplot as plt\n",
    "\n",
    "# 数据\n",
    "group1 = [\n",
    "    1/4, 1/3, 1/3, 1/3, 1/6, 7/12,\n",
    "    1/12, 1/3, 1/3, 1/6, 1/4, 1/4,\n",
    "    1/4, 5/12, 1/4, 1/3, 1/6, 1/4,\n",
    "    1/3, 1/4, 1/6, 1/6, 1/4, 5/12\n",
    "]\n",
    "\n",
    "group2 = [\n",
    "    1, 5/6, 2/3, 1/2, 3/4, 5/6,\n",
    "    1, 3/4, 1, 1/2, 7/12, 2/3,\n",
    "    11/12, 7/12, 11/12, 1/2, 5/6, 5/6,\n",
    "    1, 5/12, 11/12, 2/3, 5/6, 5/6\n",
    "]\n",
    "\n",
    "# 将组数据转换为 numpy 数组\n",
    "group1 = np.array(group1)\n",
    "group2 = np.array(group2)\n",
    "\n",
    "# 计算 group1 的均值、标准差和置信区间\n",
    "mean1 = np.mean(group1)\n",
    "std1 = np.std(group1, ddof=1)\n",
    "n1 = len(group1)\n",
    "t_critical1 = t.ppf(0.975, df=n1 - 1)  # 95% 置信水平\n",
    "margin1 = t_critical1 * (std1 / np.sqrt(n1))\n",
    "ci_lower1 = mean1 - margin1\n",
    "ci_upper1 = mean1 + margin1\n",
    "\n",
    "# 计算 group2 的均值、标准差和置信区间\n",
    "mean2 = np.mean(group2)\n",
    "std2 = np.std(group2, ddof=1)\n",
    "n2 = len(group2)\n",
    "t_critical2 = t.ppf(0.975, df=n2 - 1)  # 95% 置信水平\n",
    "margin2 = t_critical2 * (std2 / np.sqrt(n2))\n",
    "ci_lower2 = mean2 - margin2\n",
    "ci_upper2 = mean2 + margin2\n",
    "\n",
    "# 绘制图形\n",
    "plt.figure(figsize=(6, 4))\n",
    "plt.errorbar(1, mean1, yerr=margin1, fmt='o', capsize=5, label='Group 1 (95% CI)', color='blue')\n",
    "plt.errorbar(2, mean2, yerr=margin2, fmt='o', capsize=5, label='Group 2 (95% CI)', color='orange')\n",
    "plt.axhline(0, linestyle='--', color='gray', linewidth=0.8)  # 参考线\n",
    "plt.xticks([1, 2], ['Group 1', 'Group 2'])\n",
    "plt.ylabel('Mean')\n",
    "plt.title('95% Confidence Intervals for Group 1 and Group 2')\n",
    "plt.legend()\n",
    "plt.show()\n"
   ]
  },
  {
   "cell_type": "code",
   "execution_count": null,
   "metadata": {},
   "outputs": [],
   "source": []
  },
  {
   "cell_type": "code",
   "execution_count": null,
   "metadata": {},
   "outputs": [],
   "source": []
  },
  {
   "cell_type": "code",
   "execution_count": 13,
   "metadata": {},
   "outputs": [],
   "source": [
    "import matplotlib.pyplot as plt\n",
    "import numpy as np\n",
    "\n",
    "def plot_group_means_with_error_bars(group1, group2):\n",
    "    # 计算平均数和标准差\n",
    "    mean_group1 = np.mean(group1)\n",
    "    std_group1 = np.std(group1, ddof=1)\n",
    "\n",
    "    mean_group2 = np.mean(group2)\n",
    "    std_group2 = np.std(group2, ddof=1)\n",
    "\n",
    "    # 绘制柱状图\n",
    "    labels = ['Group 1', 'Group 2']\n",
    "    means = [mean_group1, mean_group2]\n",
    "    errors = [std_group1, std_group2]\n",
    "\n",
    "    plt.figure(figsize=(6, 4))\n",
    "    bars = plt.bar(labels, means, color=['blue', 'orange'], width=0.4)\n",
    "\n",
    "    # 添加竖线和端点横线 (均值 ± 标准差)\n",
    "    for i, (bar, error) in enumerate(zip(bars, errors)):\n",
    "        x = bar.get_x() + bar.get_width() / 2  # 柱子的中心\n",
    "        lower = means[i] - error\n",
    "        upper = means[i] + error\n",
    "        plt.vlines(x, lower, upper, colors='black', linewidth=1.5)\n",
    "        plt.hlines(lower, x - 0.05, x + 0.05, colors='black', linewidth=1.5)  # 下端短横线\n",
    "        plt.hlines(upper, x - 0.05, x + 0.05, colors='black', linewidth=1.5)  # 上端短横线\n",
    "\n",
    "    # 设置图表属性\n",
    "    plt.ylabel('Mean')\n",
    "    plt.title('Mean and Standard Deviation for Groups')\n",
    "    plt.ylim(0, 1)  # 限制 y 轴范围为 [0, 1]\n",
    "    plt.show()"
   ]
  },
  {
   "cell_type": "code",
   "execution_count": 14,
   "metadata": {},
   "outputs": [
    {
     "data": {
      "image/png": "[encoded data removed]",
      "text/plain": [
       "<Figure size 600x400 with 1 Axes>"
      ]
     },
     "metadata": {},
     "output_type": "display_data"
    }
   ],
   "source": [
    "# 示例调用\n",
    "group1 = [\n",
    "    1/4, 1/3, 1/3, 1/3, 1/6, 7/12,\n",
    "    1/12, 1/3, 1/3, 1/6, 1/4, 1/4,\n",
    "    1/4, 5/12, 1/4, 1/3, 1/6, 1/4,\n",
    "    1/3, 1/4, 1/6, 1/6, 1/4, 5/12\n",
    "]\n",
    "\n",
    "group2 = [\n",
    "    1, 5/6, 2/3, 1/2, 3/4, 5/6,\n",
    "    1, 3/4, 1, 1/2, 7/12, 2/3,\n",
    "    11/12, 7/12, 11/12, 1/2, 5/6, 5/6,\n",
    "    1, 5/12, 11/12, 2/3, 5/6, 5/6\n",
    "]\n",
    "\n",
    "plot_group_means_with_error_bars(group1, group2)\n"
   ]
  }
 ],
 "metadata": {
  "kernelspec": {
   "display_name": "Python 3",
   "language": "python",
   "name": "python3"
  },
  "language_info": {
   "codemirror_mode": {
    "name": "ipython",
    "version": 3
   },
   "file_extension": ".py",
   "mimetype": "text/x-python",
   "name": "python",
   "nbconvert_exporter": "python",
   "pygments_lexer": "ipython3",
   "version": "undefined.undefined.undefined"
  }
 },
 "nbformat": 4,
 "nbformat_minor": 2
}
